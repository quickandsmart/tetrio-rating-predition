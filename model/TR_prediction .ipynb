{
 "cells": [
  {
   "cell_type": "markdown",
   "id": "4459219c",
   "metadata": {},
   "source": [
    "<h1 style='color:blue' align='center'>Data Science Regression Project: Predicting Tetra Rating(TR) in Tetra League </h1>"
   ]
  },
  {
   "cell_type": "code",
   "execution_count": 1,
   "id": "b9b29e70",
   "metadata": {},
   "outputs": [],
   "source": [
    "import requests\n",
    "import json\n",
    "import pandas as pd\n",
    "import numpy as np\n",
    "import math\n",
    "import os\n",
    "from datetime import datetime, timedelta\n",
    "from sklearn.model_selection import ShuffleSplit, cross_val_score, GridSearchCV, train_test_split\n",
    "from sklearn.linear_model import LinearRegression, Lasso\n",
    "from sklearn.tree import DecisionTreeRegressor\n",
    "import warnings\n",
    "warnings.filterwarnings(\"ignore\")"
   ]
  },
  {
   "cell_type": "markdown",
   "id": "7875a84a",
   "metadata": {},
   "source": [
    "<h2 style='color:blue'>Data Load: Load Tetra League Leaderboard dataframe</h2>"
   ]
  },
  {
   "cell_type": "code",
   "execution_count": 2,
   "id": "18978ba9",
   "metadata": {
    "scrolled": false
   },
   "outputs": [
    {
     "data": {
      "text/html": [
       "<div>\n",
       "<style scoped>\n",
       "    .dataframe tbody tr th:only-of-type {\n",
       "        vertical-align: middle;\n",
       "    }\n",
       "\n",
       "    .dataframe tbody tr th {\n",
       "        vertical-align: top;\n",
       "    }\n",
       "\n",
       "    .dataframe thead th {\n",
       "        text-align: right;\n",
       "    }\n",
       "</style>\n",
       "<table border=\"1\" class=\"dataframe\">\n",
       "  <thead>\n",
       "    <tr style=\"text-align: right;\">\n",
       "      <th></th>\n",
       "      <th>_id</th>\n",
       "      <th>username</th>\n",
       "      <th>role</th>\n",
       "      <th>xp</th>\n",
       "      <th>supporter</th>\n",
       "      <th>verified</th>\n",
       "      <th>country</th>\n",
       "      <th>league.gamesplayed</th>\n",
       "      <th>league.gameswon</th>\n",
       "      <th>league.rating</th>\n",
       "      <th>league.glicko</th>\n",
       "      <th>league.rd</th>\n",
       "      <th>league.rank</th>\n",
       "      <th>league.bestrank</th>\n",
       "      <th>league.apm</th>\n",
       "      <th>league.pps</th>\n",
       "      <th>league.vs</th>\n",
       "      <th>league.decaying</th>\n",
       "    </tr>\n",
       "  </thead>\n",
       "  <tbody>\n",
       "    <tr>\n",
       "      <th>0</th>\n",
       "      <td>615fb20fe17beeef45104302</td>\n",
       "      <td>blaarg</td>\n",
       "      <td>user</td>\n",
       "      <td>5250399.0</td>\n",
       "      <td>False</td>\n",
       "      <td>True</td>\n",
       "      <td>US</td>\n",
       "      <td>1699</td>\n",
       "      <td>1467</td>\n",
       "      <td>24999.224889</td>\n",
       "      <td>4236.647320</td>\n",
       "      <td>86.675643</td>\n",
       "      <td>x</td>\n",
       "      <td>x</td>\n",
       "      <td>183.28</td>\n",
       "      <td>3.64</td>\n",
       "      <td>375.26</td>\n",
       "      <td>False</td>\n",
       "    </tr>\n",
       "    <tr>\n",
       "      <th>1</th>\n",
       "      <td>5e844b0868270e617d52c990</td>\n",
       "      <td>czsmall0402</td>\n",
       "      <td>user</td>\n",
       "      <td>15560898.5</td>\n",
       "      <td>True</td>\n",
       "      <td>True</td>\n",
       "      <td>None</td>\n",
       "      <td>420</td>\n",
       "      <td>395</td>\n",
       "      <td>24999.016611</td>\n",
       "      <td>4190.174026</td>\n",
       "      <td>98.238220</td>\n",
       "      <td>x</td>\n",
       "      <td>x</td>\n",
       "      <td>177.49</td>\n",
       "      <td>3.06</td>\n",
       "      <td>358.75</td>\n",
       "      <td>False</td>\n",
       "    </tr>\n",
       "    <tr>\n",
       "      <th>2</th>\n",
       "      <td>5f5dbcc4454e942b4fdfc5fa</td>\n",
       "      <td>vincehd</td>\n",
       "      <td>user</td>\n",
       "      <td>12532852.0</td>\n",
       "      <td>True</td>\n",
       "      <td>True</td>\n",
       "      <td>PH</td>\n",
       "      <td>1166</td>\n",
       "      <td>791</td>\n",
       "      <td>24998.585144</td>\n",
       "      <td>4068.907981</td>\n",
       "      <td>72.285643</td>\n",
       "      <td>x</td>\n",
       "      <td>x</td>\n",
       "      <td>167.85</td>\n",
       "      <td>3.58</td>\n",
       "      <td>350.71</td>\n",
       "      <td>False</td>\n",
       "    </tr>\n",
       "    <tr>\n",
       "      <th>3</th>\n",
       "      <td>5e88d0ead351fa71316ba29e</td>\n",
       "      <td>promooooooo</td>\n",
       "      <td>user</td>\n",
       "      <td>9432395.0</td>\n",
       "      <td>True</td>\n",
       "      <td>True</td>\n",
       "      <td>AQ</td>\n",
       "      <td>3602</td>\n",
       "      <td>2249</td>\n",
       "      <td>24998.415815</td>\n",
       "      <td>4036.927128</td>\n",
       "      <td>69.403356</td>\n",
       "      <td>x</td>\n",
       "      <td>x</td>\n",
       "      <td>190.62</td>\n",
       "      <td>4.02</td>\n",
       "      <td>384.17</td>\n",
       "      <td>False</td>\n",
       "    </tr>\n",
       "    <tr>\n",
       "      <th>4</th>\n",
       "      <td>5e47696db7c60f23a497ee6c</td>\n",
       "      <td>caboozled_pie</td>\n",
       "      <td>user</td>\n",
       "      <td>17162375.5</td>\n",
       "      <td>True</td>\n",
       "      <td>True</td>\n",
       "      <td>US</td>\n",
       "      <td>6467</td>\n",
       "      <td>4012</td>\n",
       "      <td>24998.115121</td>\n",
       "      <td>3987.803568</td>\n",
       "      <td>64.644785</td>\n",
       "      <td>x</td>\n",
       "      <td>x</td>\n",
       "      <td>180.78</td>\n",
       "      <td>3.56</td>\n",
       "      <td>358.68</td>\n",
       "      <td>False</td>\n",
       "    </tr>\n",
       "  </tbody>\n",
       "</table>\n",
       "</div>"
      ],
      "text/plain": [
       "                        _id       username  role          xp  supporter  \\\n",
       "0  615fb20fe17beeef45104302         blaarg  user   5250399.0      False   \n",
       "1  5e844b0868270e617d52c990    czsmall0402  user  15560898.5       True   \n",
       "2  5f5dbcc4454e942b4fdfc5fa        vincehd  user  12532852.0       True   \n",
       "3  5e88d0ead351fa71316ba29e    promooooooo  user   9432395.0       True   \n",
       "4  5e47696db7c60f23a497ee6c  caboozled_pie  user  17162375.5       True   \n",
       "\n",
       "   verified country  league.gamesplayed  league.gameswon  league.rating  \\\n",
       "0      True      US                1699             1467   24999.224889   \n",
       "1      True    None                 420              395   24999.016611   \n",
       "2      True      PH                1166              791   24998.585144   \n",
       "3      True      AQ                3602             2249   24998.415815   \n",
       "4      True      US                6467             4012   24998.115121   \n",
       "\n",
       "   league.glicko  league.rd league.rank league.bestrank  league.apm  \\\n",
       "0    4236.647320  86.675643           x               x      183.28   \n",
       "1    4190.174026  98.238220           x               x      177.49   \n",
       "2    4068.907981  72.285643           x               x      167.85   \n",
       "3    4036.927128  69.403356           x               x      190.62   \n",
       "4    3987.803568  64.644785           x               x      180.78   \n",
       "\n",
       "   league.pps  league.vs  league.decaying  \n",
       "0        3.64     375.26            False  \n",
       "1        3.06     358.75            False  \n",
       "2        3.58     350.71            False  \n",
       "3        4.02     384.17            False  \n",
       "4        3.56     358.68            False  "
      ]
     },
     "execution_count": 2,
     "metadata": {},
     "output_type": "execute_result"
    }
   ],
   "source": [
    "# Use tetr.io api to get tetra league leaderboard as of 4/10/2023\n",
    "# https://tetr.io/about/api/ for more information about the api\n",
    "response = requests.get(\"https://ch.tetr.io/api/users/lists/league/all\")\n",
    "data = response.json()\n",
    "df = pd.DataFrame(data)\n",
    "df1 = pd.json_normalize(df['data']).T\n",
    "df2 = pd.json_normalize(df1[0],sep =',')\n",
    "df2.head()"
   ]
  },
  {
   "cell_type": "markdown",
   "id": "6ea687c1",
   "metadata": {},
   "source": [
    "**Create a folder for the different versions of the leaderboard used**"
   ]
  },
  {
   "cell_type": "code",
   "execution_count": 3,
   "id": "9fb67d4b",
   "metadata": {},
   "outputs": [],
   "source": [
    "dataset_version=max([int(i) for i in os.listdir(\"dataset\") + [0]])+1\n",
    "df2.to_csv(f\"dataset/{dataset_version}.csv\",index=False)"
   ]
  },
  {
   "cell_type": "markdown",
   "id": "45bb63c4",
   "metadata": {},
   "source": [
    "**Drop features that are not necessary to build our model**"
   ]
  },
  {
   "cell_type": "code",
   "execution_count": 4,
   "id": "a1a9571e",
   "metadata": {
    "scrolled": true
   },
   "outputs": [
    {
     "data": {
      "text/html": [
       "<div>\n",
       "<style scoped>\n",
       "    .dataframe tbody tr th:only-of-type {\n",
       "        vertical-align: middle;\n",
       "    }\n",
       "\n",
       "    .dataframe tbody tr th {\n",
       "        vertical-align: top;\n",
       "    }\n",
       "\n",
       "    .dataframe thead th {\n",
       "        text-align: right;\n",
       "    }\n",
       "</style>\n",
       "<table border=\"1\" class=\"dataframe\">\n",
       "  <thead>\n",
       "    <tr style=\"text-align: right;\">\n",
       "      <th></th>\n",
       "      <th>xp</th>\n",
       "      <th>supporter</th>\n",
       "      <th>league.gamesplayed</th>\n",
       "      <th>league.gameswon</th>\n",
       "      <th>league.rating</th>\n",
       "      <th>league.glicko</th>\n",
       "      <th>league.bestrank</th>\n",
       "      <th>league.apm</th>\n",
       "      <th>league.pps</th>\n",
       "      <th>league.vs</th>\n",
       "    </tr>\n",
       "  </thead>\n",
       "  <tbody>\n",
       "    <tr>\n",
       "      <th>0</th>\n",
       "      <td>5250399.0</td>\n",
       "      <td>False</td>\n",
       "      <td>1699</td>\n",
       "      <td>1467</td>\n",
       "      <td>24999.224889</td>\n",
       "      <td>4236.647320</td>\n",
       "      <td>x</td>\n",
       "      <td>183.28</td>\n",
       "      <td>3.64</td>\n",
       "      <td>375.26</td>\n",
       "    </tr>\n",
       "    <tr>\n",
       "      <th>1</th>\n",
       "      <td>15560898.5</td>\n",
       "      <td>True</td>\n",
       "      <td>420</td>\n",
       "      <td>395</td>\n",
       "      <td>24999.016611</td>\n",
       "      <td>4190.174026</td>\n",
       "      <td>x</td>\n",
       "      <td>177.49</td>\n",
       "      <td>3.06</td>\n",
       "      <td>358.75</td>\n",
       "    </tr>\n",
       "    <tr>\n",
       "      <th>2</th>\n",
       "      <td>12532852.0</td>\n",
       "      <td>True</td>\n",
       "      <td>1166</td>\n",
       "      <td>791</td>\n",
       "      <td>24998.585144</td>\n",
       "      <td>4068.907981</td>\n",
       "      <td>x</td>\n",
       "      <td>167.85</td>\n",
       "      <td>3.58</td>\n",
       "      <td>350.71</td>\n",
       "    </tr>\n",
       "    <tr>\n",
       "      <th>3</th>\n",
       "      <td>9432395.0</td>\n",
       "      <td>True</td>\n",
       "      <td>3602</td>\n",
       "      <td>2249</td>\n",
       "      <td>24998.415815</td>\n",
       "      <td>4036.927128</td>\n",
       "      <td>x</td>\n",
       "      <td>190.62</td>\n",
       "      <td>4.02</td>\n",
       "      <td>384.17</td>\n",
       "    </tr>\n",
       "    <tr>\n",
       "      <th>4</th>\n",
       "      <td>17162375.5</td>\n",
       "      <td>True</td>\n",
       "      <td>6467</td>\n",
       "      <td>4012</td>\n",
       "      <td>24998.115121</td>\n",
       "      <td>3987.803568</td>\n",
       "      <td>x</td>\n",
       "      <td>180.78</td>\n",
       "      <td>3.56</td>\n",
       "      <td>358.68</td>\n",
       "    </tr>\n",
       "  </tbody>\n",
       "</table>\n",
       "</div>"
      ],
      "text/plain": [
       "           xp  supporter  league.gamesplayed  league.gameswon  league.rating  \\\n",
       "0   5250399.0      False                1699             1467   24999.224889   \n",
       "1  15560898.5       True                 420              395   24999.016611   \n",
       "2  12532852.0       True                1166              791   24998.585144   \n",
       "3   9432395.0       True                3602             2249   24998.415815   \n",
       "4  17162375.5       True                6467             4012   24998.115121   \n",
       "\n",
       "   league.glicko league.bestrank  league.apm  league.pps  league.vs  \n",
       "0    4236.647320               x      183.28        3.64     375.26  \n",
       "1    4190.174026               x      177.49        3.06     358.75  \n",
       "2    4068.907981               x      167.85        3.58     350.71  \n",
       "3    4036.927128               x      190.62        4.02     384.17  \n",
       "4    3987.803568               x      180.78        3.56     358.68  "
      ]
     },
     "execution_count": 4,
     "metadata": {},
     "output_type": "execute_result"
    }
   ],
   "source": [
    "df3 = df2.drop([\n",
    "        '_id','username','role','country',\n",
    "        'league.rank','league.decaying','verified','league.rd'\n",
    "], axis='columns') \n",
    "df3.head()"
   ]
  },
  {
   "cell_type": "markdown",
   "id": "b237b982",
   "metadata": {},
   "source": [
    "<h2 style='color:blue'>Feature Engineering</h2>"
   ]
  },
  {
   "cell_type": "markdown",
   "id": "2b4fdef5",
   "metadata": {},
   "source": [
    "**Add new feature for TL win %**"
   ]
  },
  {
   "cell_type": "code",
   "execution_count": 5,
   "id": "f66f6030",
   "metadata": {
    "scrolled": false
   },
   "outputs": [
    {
     "data": {
      "text/html": [
       "<div>\n",
       "<style scoped>\n",
       "    .dataframe tbody tr th:only-of-type {\n",
       "        vertical-align: middle;\n",
       "    }\n",
       "\n",
       "    .dataframe tbody tr th {\n",
       "        vertical-align: top;\n",
       "    }\n",
       "\n",
       "    .dataframe thead th {\n",
       "        text-align: right;\n",
       "    }\n",
       "</style>\n",
       "<table border=\"1\" class=\"dataframe\">\n",
       "  <thead>\n",
       "    <tr style=\"text-align: right;\">\n",
       "      <th></th>\n",
       "      <th>xp</th>\n",
       "      <th>supporter</th>\n",
       "      <th>league.gamesplayed</th>\n",
       "      <th>league.gameswon</th>\n",
       "      <th>league.rating</th>\n",
       "      <th>league.glicko</th>\n",
       "      <th>league.bestrank</th>\n",
       "      <th>league.apm</th>\n",
       "      <th>league.pps</th>\n",
       "      <th>league.vs</th>\n",
       "      <th>league.winper</th>\n",
       "    </tr>\n",
       "  </thead>\n",
       "  <tbody>\n",
       "    <tr>\n",
       "      <th>0</th>\n",
       "      <td>5250399.0</td>\n",
       "      <td>False</td>\n",
       "      <td>1699</td>\n",
       "      <td>1467</td>\n",
       "      <td>24999.224889</td>\n",
       "      <td>4236.647320</td>\n",
       "      <td>x</td>\n",
       "      <td>183.28</td>\n",
       "      <td>3.64</td>\n",
       "      <td>375.26</td>\n",
       "      <td>0.863449</td>\n",
       "    </tr>\n",
       "    <tr>\n",
       "      <th>1</th>\n",
       "      <td>15560898.5</td>\n",
       "      <td>True</td>\n",
       "      <td>420</td>\n",
       "      <td>395</td>\n",
       "      <td>24999.016611</td>\n",
       "      <td>4190.174026</td>\n",
       "      <td>x</td>\n",
       "      <td>177.49</td>\n",
       "      <td>3.06</td>\n",
       "      <td>358.75</td>\n",
       "      <td>0.940476</td>\n",
       "    </tr>\n",
       "    <tr>\n",
       "      <th>2</th>\n",
       "      <td>12532852.0</td>\n",
       "      <td>True</td>\n",
       "      <td>1166</td>\n",
       "      <td>791</td>\n",
       "      <td>24998.585144</td>\n",
       "      <td>4068.907981</td>\n",
       "      <td>x</td>\n",
       "      <td>167.85</td>\n",
       "      <td>3.58</td>\n",
       "      <td>350.71</td>\n",
       "      <td>0.678388</td>\n",
       "    </tr>\n",
       "    <tr>\n",
       "      <th>3</th>\n",
       "      <td>9432395.0</td>\n",
       "      <td>True</td>\n",
       "      <td>3602</td>\n",
       "      <td>2249</td>\n",
       "      <td>24998.415815</td>\n",
       "      <td>4036.927128</td>\n",
       "      <td>x</td>\n",
       "      <td>190.62</td>\n",
       "      <td>4.02</td>\n",
       "      <td>384.17</td>\n",
       "      <td>0.624375</td>\n",
       "    </tr>\n",
       "    <tr>\n",
       "      <th>4</th>\n",
       "      <td>17162375.5</td>\n",
       "      <td>True</td>\n",
       "      <td>6467</td>\n",
       "      <td>4012</td>\n",
       "      <td>24998.115121</td>\n",
       "      <td>3987.803568</td>\n",
       "      <td>x</td>\n",
       "      <td>180.78</td>\n",
       "      <td>3.56</td>\n",
       "      <td>358.68</td>\n",
       "      <td>0.620380</td>\n",
       "    </tr>\n",
       "  </tbody>\n",
       "</table>\n",
       "</div>"
      ],
      "text/plain": [
       "           xp  supporter  league.gamesplayed  league.gameswon  league.rating  \\\n",
       "0   5250399.0      False                1699             1467   24999.224889   \n",
       "1  15560898.5       True                 420              395   24999.016611   \n",
       "2  12532852.0       True                1166              791   24998.585144   \n",
       "3   9432395.0       True                3602             2249   24998.415815   \n",
       "4  17162375.5       True                6467             4012   24998.115121   \n",
       "\n",
       "   league.glicko league.bestrank  league.apm  league.pps  league.vs  \\\n",
       "0    4236.647320               x      183.28        3.64     375.26   \n",
       "1    4190.174026               x      177.49        3.06     358.75   \n",
       "2    4068.907981               x      167.85        3.58     350.71   \n",
       "3    4036.927128               x      190.62        4.02     384.17   \n",
       "4    3987.803568               x      180.78        3.56     358.68   \n",
       "\n",
       "   league.winper  \n",
       "0       0.863449  \n",
       "1       0.940476  \n",
       "2       0.678388  \n",
       "3       0.624375  \n",
       "4       0.620380  "
      ]
     },
     "execution_count": 5,
     "metadata": {},
     "output_type": "execute_result"
    }
   ],
   "source": [
    "df3['league.winper']  = df3['league.gameswon']/df3['league.gamesplayed']\n",
    "df3.head()"
   ]
  },
  {
   "cell_type": "markdown",
   "id": "b9778913",
   "metadata": {},
   "source": [
    "**Replace XP for Levels**"
   ]
  },
  {
   "cell_type": "code",
   "execution_count": 6,
   "id": "16f86b30",
   "metadata": {},
   "outputs": [
    {
     "data": {
      "text/html": [
       "<div>\n",
       "<style scoped>\n",
       "    .dataframe tbody tr th:only-of-type {\n",
       "        vertical-align: middle;\n",
       "    }\n",
       "\n",
       "    .dataframe tbody tr th {\n",
       "        vertical-align: top;\n",
       "    }\n",
       "\n",
       "    .dataframe thead th {\n",
       "        text-align: right;\n",
       "    }\n",
       "</style>\n",
       "<table border=\"1\" class=\"dataframe\">\n",
       "  <thead>\n",
       "    <tr style=\"text-align: right;\">\n",
       "      <th></th>\n",
       "      <th>supporter</th>\n",
       "      <th>league.gamesplayed</th>\n",
       "      <th>league.gameswon</th>\n",
       "      <th>league.rating</th>\n",
       "      <th>league.glicko</th>\n",
       "      <th>league.bestrank</th>\n",
       "      <th>league.apm</th>\n",
       "      <th>league.pps</th>\n",
       "      <th>league.vs</th>\n",
       "      <th>league.winper</th>\n",
       "      <th>level</th>\n",
       "    </tr>\n",
       "  </thead>\n",
       "  <tbody>\n",
       "    <tr>\n",
       "      <th>0</th>\n",
       "      <td>False</td>\n",
       "      <td>1699</td>\n",
       "      <td>1467</td>\n",
       "      <td>24999.224889</td>\n",
       "      <td>4236.647320</td>\n",
       "      <td>x</td>\n",
       "      <td>183.28</td>\n",
       "      <td>3.64</td>\n",
       "      <td>375.26</td>\n",
       "      <td>0.863449</td>\n",
       "      <td>1259</td>\n",
       "    </tr>\n",
       "    <tr>\n",
       "      <th>1</th>\n",
       "      <td>True</td>\n",
       "      <td>420</td>\n",
       "      <td>395</td>\n",
       "      <td>24999.016611</td>\n",
       "      <td>4190.174026</td>\n",
       "      <td>x</td>\n",
       "      <td>177.49</td>\n",
       "      <td>3.06</td>\n",
       "      <td>358.75</td>\n",
       "      <td>0.940476</td>\n",
       "      <td>2625</td>\n",
       "    </tr>\n",
       "    <tr>\n",
       "      <th>2</th>\n",
       "      <td>True</td>\n",
       "      <td>1166</td>\n",
       "      <td>791</td>\n",
       "      <td>24998.585144</td>\n",
       "      <td>4068.907981</td>\n",
       "      <td>x</td>\n",
       "      <td>167.85</td>\n",
       "      <td>3.58</td>\n",
       "      <td>350.71</td>\n",
       "      <td>0.678388</td>\n",
       "      <td>2305</td>\n",
       "    </tr>\n",
       "    <tr>\n",
       "      <th>3</th>\n",
       "      <td>True</td>\n",
       "      <td>3602</td>\n",
       "      <td>2249</td>\n",
       "      <td>24998.415815</td>\n",
       "      <td>4036.927128</td>\n",
       "      <td>x</td>\n",
       "      <td>190.62</td>\n",
       "      <td>4.02</td>\n",
       "      <td>384.17</td>\n",
       "      <td>0.624375</td>\n",
       "      <td>1918</td>\n",
       "    </tr>\n",
       "    <tr>\n",
       "      <th>4</th>\n",
       "      <td>True</td>\n",
       "      <td>6467</td>\n",
       "      <td>4012</td>\n",
       "      <td>24998.115121</td>\n",
       "      <td>3987.803568</td>\n",
       "      <td>x</td>\n",
       "      <td>180.78</td>\n",
       "      <td>3.56</td>\n",
       "      <td>358.68</td>\n",
       "      <td>0.620380</td>\n",
       "      <td>2776</td>\n",
       "    </tr>\n",
       "  </tbody>\n",
       "</table>\n",
       "</div>"
      ],
      "text/plain": [
       "   supporter  league.gamesplayed  league.gameswon  league.rating  \\\n",
       "0      False                1699             1467   24999.224889   \n",
       "1       True                 420              395   24999.016611   \n",
       "2       True                1166              791   24998.585144   \n",
       "3       True                3602             2249   24998.415815   \n",
       "4       True                6467             4012   24998.115121   \n",
       "\n",
       "   league.glicko league.bestrank  league.apm  league.pps  league.vs  \\\n",
       "0    4236.647320               x      183.28        3.64     375.26   \n",
       "1    4190.174026               x      177.49        3.06     358.75   \n",
       "2    4068.907981               x      167.85        3.58     350.71   \n",
       "3    4036.927128               x      190.62        4.02     384.17   \n",
       "4    3987.803568               x      180.78        3.56     358.68   \n",
       "\n",
       "   league.winper  level  \n",
       "0       0.863449   1259  \n",
       "1       0.940476   2625  \n",
       "2       0.678388   2305  \n",
       "3       0.624375   1918  \n",
       "4       0.620380   2776  "
      ]
     },
     "execution_count": 6,
     "metadata": {},
     "output_type": "execute_result"
    }
   ],
   "source": [
    "#Formula for levels found here https://tetrio.team2xh.net/?t=faq#xp\n",
    "\n",
    "def calculate_level(xp):\n",
    "    level = (xp/500)**0.6 + xp / (5000 + max(0, xp - 4*(10**6)) / 5000) + 1\n",
    "    return math.floor(level)  \n",
    "df3['level'] = df3['xp'].apply(calculate_level)\n",
    "df3.drop('xp',axis='columns',inplace=True)\n",
    "df3.head()"
   ]
  },
  {
   "cell_type": "markdown",
   "id": "4fd2d88a",
   "metadata": {},
   "source": [
    "**Drop the the bottom 5% of people in games played. This is done to avoid players who have not played many games and may not be ranked as accurately**"
   ]
  },
  {
   "cell_type": "code",
   "execution_count": 7,
   "id": "d3efdb78",
   "metadata": {},
   "outputs": [
    {
     "data": {
      "text/plain": [
       "25.0"
      ]
     },
     "execution_count": 7,
     "metadata": {},
     "output_type": "execute_result"
    }
   ],
   "source": [
    "df3['league.gamesplayed'].quantile(0.05,interpolation='linear')"
   ]
  },
  {
   "cell_type": "code",
   "execution_count": 8,
   "id": "9d15727c",
   "metadata": {},
   "outputs": [
    {
     "data": {
      "text/plain": [
       "(44071, 11)"
      ]
     },
     "execution_count": 8,
     "metadata": {},
     "output_type": "execute_result"
    }
   ],
   "source": [
    "df4 = df3[~(df3['league.gamesplayed']<=25)]\n",
    "df4.shape"
   ]
  },
  {
   "cell_type": "markdown",
   "id": "4699e19d",
   "metadata": {},
   "source": [
    "**Convert Support column to binary**"
   ]
  },
  {
   "cell_type": "code",
   "execution_count": 9,
   "id": "8b2355c9",
   "metadata": {},
   "outputs": [
    {
     "data": {
      "text/html": [
       "<div>\n",
       "<style scoped>\n",
       "    .dataframe tbody tr th:only-of-type {\n",
       "        vertical-align: middle;\n",
       "    }\n",
       "\n",
       "    .dataframe tbody tr th {\n",
       "        vertical-align: top;\n",
       "    }\n",
       "\n",
       "    .dataframe thead th {\n",
       "        text-align: right;\n",
       "    }\n",
       "</style>\n",
       "<table border=\"1\" class=\"dataframe\">\n",
       "  <thead>\n",
       "    <tr style=\"text-align: right;\">\n",
       "      <th></th>\n",
       "      <th>supporter</th>\n",
       "      <th>league.gamesplayed</th>\n",
       "      <th>league.gameswon</th>\n",
       "      <th>league.rating</th>\n",
       "      <th>league.glicko</th>\n",
       "      <th>league.bestrank</th>\n",
       "      <th>league.apm</th>\n",
       "      <th>league.pps</th>\n",
       "      <th>league.vs</th>\n",
       "      <th>league.winper</th>\n",
       "      <th>level</th>\n",
       "    </tr>\n",
       "  </thead>\n",
       "  <tbody>\n",
       "    <tr>\n",
       "      <th>0</th>\n",
       "      <td>0</td>\n",
       "      <td>1699</td>\n",
       "      <td>1467</td>\n",
       "      <td>24999.224889</td>\n",
       "      <td>4236.647320</td>\n",
       "      <td>x</td>\n",
       "      <td>183.28</td>\n",
       "      <td>3.64</td>\n",
       "      <td>375.26</td>\n",
       "      <td>0.863449</td>\n",
       "      <td>1259</td>\n",
       "    </tr>\n",
       "    <tr>\n",
       "      <th>1</th>\n",
       "      <td>1</td>\n",
       "      <td>420</td>\n",
       "      <td>395</td>\n",
       "      <td>24999.016611</td>\n",
       "      <td>4190.174026</td>\n",
       "      <td>x</td>\n",
       "      <td>177.49</td>\n",
       "      <td>3.06</td>\n",
       "      <td>358.75</td>\n",
       "      <td>0.940476</td>\n",
       "      <td>2625</td>\n",
       "    </tr>\n",
       "    <tr>\n",
       "      <th>2</th>\n",
       "      <td>1</td>\n",
       "      <td>1166</td>\n",
       "      <td>791</td>\n",
       "      <td>24998.585144</td>\n",
       "      <td>4068.907981</td>\n",
       "      <td>x</td>\n",
       "      <td>167.85</td>\n",
       "      <td>3.58</td>\n",
       "      <td>350.71</td>\n",
       "      <td>0.678388</td>\n",
       "      <td>2305</td>\n",
       "    </tr>\n",
       "    <tr>\n",
       "      <th>3</th>\n",
       "      <td>1</td>\n",
       "      <td>3602</td>\n",
       "      <td>2249</td>\n",
       "      <td>24998.415815</td>\n",
       "      <td>4036.927128</td>\n",
       "      <td>x</td>\n",
       "      <td>190.62</td>\n",
       "      <td>4.02</td>\n",
       "      <td>384.17</td>\n",
       "      <td>0.624375</td>\n",
       "      <td>1918</td>\n",
       "    </tr>\n",
       "    <tr>\n",
       "      <th>4</th>\n",
       "      <td>1</td>\n",
       "      <td>6467</td>\n",
       "      <td>4012</td>\n",
       "      <td>24998.115121</td>\n",
       "      <td>3987.803568</td>\n",
       "      <td>x</td>\n",
       "      <td>180.78</td>\n",
       "      <td>3.56</td>\n",
       "      <td>358.68</td>\n",
       "      <td>0.620380</td>\n",
       "      <td>2776</td>\n",
       "    </tr>\n",
       "  </tbody>\n",
       "</table>\n",
       "</div>"
      ],
      "text/plain": [
       "   supporter  league.gamesplayed  league.gameswon  league.rating  \\\n",
       "0          0                1699             1467   24999.224889   \n",
       "1          1                 420              395   24999.016611   \n",
       "2          1                1166              791   24998.585144   \n",
       "3          1                3602             2249   24998.415815   \n",
       "4          1                6467             4012   24998.115121   \n",
       "\n",
       "   league.glicko league.bestrank  league.apm  league.pps  league.vs  \\\n",
       "0    4236.647320               x      183.28        3.64     375.26   \n",
       "1    4190.174026               x      177.49        3.06     358.75   \n",
       "2    4068.907981               x      167.85        3.58     350.71   \n",
       "3    4036.927128               x      190.62        4.02     384.17   \n",
       "4    3987.803568               x      180.78        3.56     358.68   \n",
       "\n",
       "   league.winper  level  \n",
       "0       0.863449   1259  \n",
       "1       0.940476   2625  \n",
       "2       0.678388   2305  \n",
       "3       0.624375   1918  \n",
       "4       0.620380   2776  "
      ]
     },
     "execution_count": 9,
     "metadata": {},
     "output_type": "execute_result"
    }
   ],
   "source": [
    "#Convert True/False columns to binary columns so model can interpret them\n",
    "df4['supporter'] = df4['supporter'].astype(int)\n",
    "df4.head()"
   ]
  },
  {
   "cell_type": "markdown",
   "id": "5fe18c3a",
   "metadata": {},
   "source": [
    "<h2 style='color:blue'>Use One Hot Encoding For a Player's Best Rank</h2>"
   ]
  },
  {
   "cell_type": "code",
   "execution_count": 10,
   "id": "2445cf7a",
   "metadata": {
    "scrolled": true
   },
   "outputs": [
    {
     "data": {
      "text/plain": [
       "Index(['supporter', 'league.gamesplayed', 'league.gameswon', 'league.rating',\n",
       "       'league.glicko', 'league.apm', 'league.pps', 'league.vs',\n",
       "       'league.winper', 'level', 'a', 'a+', 'a-', 'b', 'b+', 'b-', 'c', 'c+',\n",
       "       'c-', 'd', 'd+', 's', 's+', 's-', 'ss', 'u'],\n",
       "      dtype='object')"
      ]
     },
     "execution_count": 10,
     "metadata": {},
     "output_type": "execute_result"
    }
   ],
   "source": [
    "dummies = pd.get_dummies(df4['league.bestrank'])\n",
    "df5 = pd.concat([df4.drop('league.bestrank',axis='columns'),dummies.drop('x',axis='columns')],axis='columns')\n",
    "df5.columns"
   ]
  },
  {
   "cell_type": "markdown",
   "id": "6bc4852f",
   "metadata": {},
   "source": [
    "<h2 style='color:blue'>Building the Prediction Model</h2>"
   ]
  },
  {
   "cell_type": "markdown",
   "id": "17917210",
   "metadata": {},
   "source": [
    "**Creating the target variable (Y) and the input features (X)**"
   ]
  },
  {
   "cell_type": "code",
   "execution_count": 11,
   "id": "2682cc0b",
   "metadata": {
    "scrolled": true
   },
   "outputs": [
    {
     "data": {
      "text/html": [
       "<div>\n",
       "<style scoped>\n",
       "    .dataframe tbody tr th:only-of-type {\n",
       "        vertical-align: middle;\n",
       "    }\n",
       "\n",
       "    .dataframe tbody tr th {\n",
       "        vertical-align: top;\n",
       "    }\n",
       "\n",
       "    .dataframe thead th {\n",
       "        text-align: right;\n",
       "    }\n",
       "</style>\n",
       "<table border=\"1\" class=\"dataframe\">\n",
       "  <thead>\n",
       "    <tr style=\"text-align: right;\">\n",
       "      <th></th>\n",
       "      <th>supporter</th>\n",
       "      <th>league.gamesplayed</th>\n",
       "      <th>league.gameswon</th>\n",
       "      <th>league.apm</th>\n",
       "      <th>league.pps</th>\n",
       "      <th>league.vs</th>\n",
       "      <th>league.winper</th>\n",
       "      <th>level</th>\n",
       "      <th>a</th>\n",
       "      <th>a+</th>\n",
       "      <th>...</th>\n",
       "      <th>c</th>\n",
       "      <th>c+</th>\n",
       "      <th>c-</th>\n",
       "      <th>d</th>\n",
       "      <th>d+</th>\n",
       "      <th>s</th>\n",
       "      <th>s+</th>\n",
       "      <th>s-</th>\n",
       "      <th>ss</th>\n",
       "      <th>u</th>\n",
       "    </tr>\n",
       "  </thead>\n",
       "  <tbody>\n",
       "    <tr>\n",
       "      <th>0</th>\n",
       "      <td>0</td>\n",
       "      <td>1699</td>\n",
       "      <td>1467</td>\n",
       "      <td>183.28</td>\n",
       "      <td>3.64</td>\n",
       "      <td>375.26</td>\n",
       "      <td>0.863449</td>\n",
       "      <td>1259</td>\n",
       "      <td>0</td>\n",
       "      <td>0</td>\n",
       "      <td>...</td>\n",
       "      <td>0</td>\n",
       "      <td>0</td>\n",
       "      <td>0</td>\n",
       "      <td>0</td>\n",
       "      <td>0</td>\n",
       "      <td>0</td>\n",
       "      <td>0</td>\n",
       "      <td>0</td>\n",
       "      <td>0</td>\n",
       "      <td>0</td>\n",
       "    </tr>\n",
       "    <tr>\n",
       "      <th>1</th>\n",
       "      <td>1</td>\n",
       "      <td>420</td>\n",
       "      <td>395</td>\n",
       "      <td>177.49</td>\n",
       "      <td>3.06</td>\n",
       "      <td>358.75</td>\n",
       "      <td>0.940476</td>\n",
       "      <td>2625</td>\n",
       "      <td>0</td>\n",
       "      <td>0</td>\n",
       "      <td>...</td>\n",
       "      <td>0</td>\n",
       "      <td>0</td>\n",
       "      <td>0</td>\n",
       "      <td>0</td>\n",
       "      <td>0</td>\n",
       "      <td>0</td>\n",
       "      <td>0</td>\n",
       "      <td>0</td>\n",
       "      <td>0</td>\n",
       "      <td>0</td>\n",
       "    </tr>\n",
       "    <tr>\n",
       "      <th>2</th>\n",
       "      <td>1</td>\n",
       "      <td>1166</td>\n",
       "      <td>791</td>\n",
       "      <td>167.85</td>\n",
       "      <td>3.58</td>\n",
       "      <td>350.71</td>\n",
       "      <td>0.678388</td>\n",
       "      <td>2305</td>\n",
       "      <td>0</td>\n",
       "      <td>0</td>\n",
       "      <td>...</td>\n",
       "      <td>0</td>\n",
       "      <td>0</td>\n",
       "      <td>0</td>\n",
       "      <td>0</td>\n",
       "      <td>0</td>\n",
       "      <td>0</td>\n",
       "      <td>0</td>\n",
       "      <td>0</td>\n",
       "      <td>0</td>\n",
       "      <td>0</td>\n",
       "    </tr>\n",
       "    <tr>\n",
       "      <th>3</th>\n",
       "      <td>1</td>\n",
       "      <td>3602</td>\n",
       "      <td>2249</td>\n",
       "      <td>190.62</td>\n",
       "      <td>4.02</td>\n",
       "      <td>384.17</td>\n",
       "      <td>0.624375</td>\n",
       "      <td>1918</td>\n",
       "      <td>0</td>\n",
       "      <td>0</td>\n",
       "      <td>...</td>\n",
       "      <td>0</td>\n",
       "      <td>0</td>\n",
       "      <td>0</td>\n",
       "      <td>0</td>\n",
       "      <td>0</td>\n",
       "      <td>0</td>\n",
       "      <td>0</td>\n",
       "      <td>0</td>\n",
       "      <td>0</td>\n",
       "      <td>0</td>\n",
       "    </tr>\n",
       "    <tr>\n",
       "      <th>4</th>\n",
       "      <td>1</td>\n",
       "      <td>6467</td>\n",
       "      <td>4012</td>\n",
       "      <td>180.78</td>\n",
       "      <td>3.56</td>\n",
       "      <td>358.68</td>\n",
       "      <td>0.620380</td>\n",
       "      <td>2776</td>\n",
       "      <td>0</td>\n",
       "      <td>0</td>\n",
       "      <td>...</td>\n",
       "      <td>0</td>\n",
       "      <td>0</td>\n",
       "      <td>0</td>\n",
       "      <td>0</td>\n",
       "      <td>0</td>\n",
       "      <td>0</td>\n",
       "      <td>0</td>\n",
       "      <td>0</td>\n",
       "      <td>0</td>\n",
       "      <td>0</td>\n",
       "    </tr>\n",
       "  </tbody>\n",
       "</table>\n",
       "<p>5 rows × 24 columns</p>\n",
       "</div>"
      ],
      "text/plain": [
       "   supporter  league.gamesplayed  league.gameswon  league.apm  league.pps  \\\n",
       "0          0                1699             1467      183.28        3.64   \n",
       "1          1                 420              395      177.49        3.06   \n",
       "2          1                1166              791      167.85        3.58   \n",
       "3          1                3602             2249      190.62        4.02   \n",
       "4          1                6467             4012      180.78        3.56   \n",
       "\n",
       "   league.vs  league.winper  level  a  a+  ...  c  c+  c-  d  d+  s  s+  s-  \\\n",
       "0     375.26       0.863449   1259  0   0  ...  0   0   0  0   0  0   0   0   \n",
       "1     358.75       0.940476   2625  0   0  ...  0   0   0  0   0  0   0   0   \n",
       "2     350.71       0.678388   2305  0   0  ...  0   0   0  0   0  0   0   0   \n",
       "3     384.17       0.624375   1918  0   0  ...  0   0   0  0   0  0   0   0   \n",
       "4     358.68       0.620380   2776  0   0  ...  0   0   0  0   0  0   0   0   \n",
       "\n",
       "   ss  u  \n",
       "0   0  0  \n",
       "1   0  0  \n",
       "2   0  0  \n",
       "3   0  0  \n",
       "4   0  0  \n",
       "\n",
       "[5 rows x 24 columns]"
      ]
     },
     "execution_count": 11,
     "metadata": {},
     "output_type": "execute_result"
    }
   ],
   "source": [
    "X = df5.drop(['league.rating','league.glicko'],axis='columns')\n",
    "y = df5['league.glicko']\n",
    "X.head()"
   ]
  },
  {
   "cell_type": "markdown",
   "id": "4ac8dfd4",
   "metadata": {},
   "source": [
    "**Split the variables for 80% of the data be used for training and 20% be used for testing**"
   ]
  },
  {
   "cell_type": "code",
   "execution_count": 12,
   "id": "2de7d737",
   "metadata": {},
   "outputs": [],
   "source": [
    "X_train, X_test, y_train, y_test = train_test_split(X,y,test_size=0.2,random_state=0)"
   ]
  },
  {
   "cell_type": "code",
   "execution_count": 13,
   "id": "0ac51b18",
   "metadata": {},
   "outputs": [
    {
     "data": {
      "text/plain": [
       "0.9792015036610403"
      ]
     },
     "execution_count": 13,
     "metadata": {},
     "output_type": "execute_result"
    }
   ],
   "source": [
    "lr_clf = LinearRegression()\n",
    "lr_clf.fit(X_train,y_train)\n",
    "lr_clf.score(X_test,y_test)"
   ]
  },
  {
   "cell_type": "markdown",
   "id": "bfce4a8f",
   "metadata": {},
   "source": [
    "**Linear Regression gave a score over 97.5%, but I'd like to see if we can get any other ML model or other parameters that lead to higher accuracy. We will use GridSearchCV and K-fold cross validation to to do so.**"
   ]
  },
  {
   "cell_type": "code",
   "execution_count": 14,
   "id": "e69d23e3",
   "metadata": {
    "scrolled": true
   },
   "outputs": [
    {
     "data": {
      "text/html": [
       "<div>\n",
       "<style scoped>\n",
       "    .dataframe tbody tr th:only-of-type {\n",
       "        vertical-align: middle;\n",
       "    }\n",
       "\n",
       "    .dataframe tbody tr th {\n",
       "        vertical-align: top;\n",
       "    }\n",
       "\n",
       "    .dataframe thead th {\n",
       "        text-align: right;\n",
       "    }\n",
       "</style>\n",
       "<table border=\"1\" class=\"dataframe\">\n",
       "  <thead>\n",
       "    <tr style=\"text-align: right;\">\n",
       "      <th></th>\n",
       "      <th>model</th>\n",
       "      <th>best_score</th>\n",
       "      <th>best_params</th>\n",
       "    </tr>\n",
       "  </thead>\n",
       "  <tbody>\n",
       "    <tr>\n",
       "      <th>0</th>\n",
       "      <td>linear_regression</td>\n",
       "      <td>0.978731</td>\n",
       "      <td>{'normalize': True}</td>\n",
       "    </tr>\n",
       "    <tr>\n",
       "      <th>1</th>\n",
       "      <td>lasso</td>\n",
       "      <td>0.971265</td>\n",
       "      <td>{'alpha': 1, 'selection': 'cyclic'}</td>\n",
       "    </tr>\n",
       "    <tr>\n",
       "      <th>2</th>\n",
       "      <td>decision_tree</td>\n",
       "      <td>0.967394</td>\n",
       "      <td>{'criterion': 'mse', 'splitter': 'best'}</td>\n",
       "    </tr>\n",
       "  </tbody>\n",
       "</table>\n",
       "</div>"
      ],
      "text/plain": [
       "               model  best_score                               best_params\n",
       "0  linear_regression    0.978731                       {'normalize': True}\n",
       "1              lasso    0.971265       {'alpha': 1, 'selection': 'cyclic'}\n",
       "2      decision_tree    0.967394  {'criterion': 'mse', 'splitter': 'best'}"
      ]
     },
     "execution_count": 14,
     "metadata": {},
     "output_type": "execute_result"
    }
   ],
   "source": [
    "model_params =  {\n",
    "        'linear_regression' : {\n",
    "            'model': LinearRegression(),\n",
    "            'params': {\n",
    "                'normalize': [True, False]\n",
    "            }\n",
    "        },\n",
    "        'lasso': {\n",
    "            'model': Lasso(),\n",
    "            'params': {\n",
    "                'alpha': [1,2],\n",
    "                'selection': ['random', 'cyclic']\n",
    "            }\n",
    "        },\n",
    "        'decision_tree': {\n",
    "            'model': DecisionTreeRegressor(),\n",
    "            'params': {\n",
    "                'criterion' : ['mse','friedman_mse'],\n",
    "                'splitter': ['best','random']\n",
    "            }\n",
    "        }\n",
    "    }\n",
    "def find_best_model_using_gridsearchcv(X,y):\n",
    "    scores = []\n",
    "    cv = ShuffleSplit(n_splits=5, test_size=0.2, random_state=0)\n",
    "    for algo_name, config in model_params.items():\n",
    "        gs =  GridSearchCV(config['model'], config['params'], cv=cv, return_train_score=False)\n",
    "        gs.fit(X,y)\n",
    "        scores.append({\n",
    "            'model': algo_name,\n",
    "            'best_score': gs.best_score_,\n",
    "            'best_params': gs.best_params_,\n",
    "        })\n",
    "\n",
    "    return pd.DataFrame(scores,columns=['model','best_score','best_params'])\n",
    "\n",
    "find_best_model_using_gridsearchcv(X,y)"
   ]
  },
  {
   "cell_type": "markdown",
   "id": "2ef5dcd1",
   "metadata": {},
   "source": [
    "**All 3 criteria have around the same score, so I will test with outliers to see which of the three handle them better**"
   ]
  },
  {
   "cell_type": "code",
   "execution_count": 15,
   "id": "e92240b3",
   "metadata": {},
   "outputs": [
    {
     "data": {
      "text/plain": [
       "LinearRegression(normalize=True)"
      ]
     },
     "execution_count": 15,
     "metadata": {},
     "output_type": "execute_result"
    }
   ],
   "source": [
    "lr_clf = LinearRegression(normalize=True)\n",
    "lr_clf.fit(X,y)"
   ]
  },
  {
   "cell_type": "code",
   "execution_count": 16,
   "id": "de580349",
   "metadata": {},
   "outputs": [
    {
     "data": {
      "text/plain": [
       "Lasso(alpha=1, selection='random')"
      ]
     },
     "execution_count": 16,
     "metadata": {},
     "output_type": "execute_result"
    }
   ],
   "source": [
    "lasso_clf = Lasso(alpha=1,selection='random')\n",
    "lasso_clf.fit(X,y)"
   ]
  },
  {
   "cell_type": "code",
   "execution_count": 17,
   "id": "27e05641",
   "metadata": {},
   "outputs": [
    {
     "data": {
      "text/plain": [
       "DecisionTreeRegressor(criterion='mse')"
      ]
     },
     "execution_count": 17,
     "metadata": {},
     "output_type": "execute_result"
    }
   ],
   "source": [
    "dt_clf = DecisionTreeRegressor(criterion='mse',splitter='best')\n",
    "dt_clf.fit(X,y)"
   ]
  },
  {
   "cell_type": "markdown",
   "id": "4823ed6d",
   "metadata": {},
   "source": [
    "<h2 style='color:blue'>Test the models with Outliers</h2>"
   ]
  },
  {
   "cell_type": "code",
   "execution_count": 18,
   "id": "e3f70a6a",
   "metadata": {},
   "outputs": [],
   "source": [
    "def predict_TR(user):\n",
    "    response = requests.get(f\"https://ch.tetr.io/api/users/{user}\")\n",
    "    data_predict = response.json()\n",
    "    df_predict1 = pd.DataFrame(data_predict)\n",
    "    df_predict2 = pd.json_normalize(df_predict1['data'])\n",
    "    \n",
    "    x = pd.DataFrame(data=np.zeros((1, len(X_train.columns))), columns=X_train.columns)\n",
    "    \n",
    "    if (df_predict2['supporter_tier'].iloc[0]>0):\n",
    "        x['supporter'] = 1\n",
    "    else:\n",
    "        x['supporter'] = 0\n",
    "    \n",
    "    x['league.gamesplayed'] = df_predict2['league.gamesplayed'].iloc[0]\n",
    "    x['league.gameswon'] = df_predict2['league.gameswon'].iloc[0]\n",
    "    x['league.apm'] = df_predict2['league.apm'].iloc[0]\n",
    "    x['league.pps'] = df_predict2['league.pps'].iloc[0]\n",
    "    x['league.vs'] = df_predict2['league.vs'].iloc[0]\n",
    "    x['league.winper'] = df_predict2['league.gameswon'].iloc[0]/df_predict2['league.gamesplayed'].iloc[0]\n",
    "    x['level'] = calculate_level(df_predict2['xp'].iloc[0])\n",
    "    \n",
    "    rank = df_predict2['league.bestrank'].iloc[0]\n",
    "    if ((rank != 'x')):\n",
    "        x[rank]=1\n",
    "    rd = get_RD(df_predict2['_id'][0],df_predict2['league.rd'][0])\n",
    "    lr_predicted = calculate_TR(lr_clf.predict(x)[0],rd)\n",
    "    lasso_predicted = calculate_TR(lasso_clf.predict(x)[0],rd)\n",
    "    dt_predicted = calculate_TR(dt_clf.predict(x)[0],rd)\n",
    "    actual = round(df_predict2['league.rating'].iloc[0],2)\n",
    "    compare = calculate_TR(df_predict2['league.glicko'][0],rd)\n",
    "\n",
    "    print(f\"{'Actual TR:':<22} {actual} \\n{'Estimated TR:':<22} {compare}\\n{'Linear Regression TR:':<22} {lr_predicted}\\n{'Lasso TR:':<22} {lasso_predicted}\\n{'Decision Tree TR:':<22} {dt_predicted}\")\n",
    "\n",
    "def calculate_TR(glicko,rd):\n",
    "    TR = round(25000/(1+np.power(10, (1500-glicko)*np.pi/(np.sqrt(3*np.log(10)*np.log(10)*rd*rd+2500*(64*np.pi*np.pi+147*np.log(10)*np.log(10)))))), 2)\n",
    "    return TR\n",
    "\n",
    "def get_RD(user_id, rd):\n",
    "    response = requests.get(f\"https://ch.tetr.io/api/streams/league_userrecent_{user_id}\")\n",
    "    user_data = response.json()\n",
    "    df_user = pd.DataFrame(user_data)\n",
    "    df_user1 = pd.json_normalize(df_user['data']).T\n",
    "    df_user2 = pd.json_normalize(df_user1[0],sep =',')\n",
    "    try: \n",
    "        date = datetime.strptime(df_user2['ts'][0], '%Y-%m-%dT%H:%M:%S.%fZ')\n",
    "    except:\n",
    "        return (df2['league.rd'].median())\n",
    "\n",
    "    now = datetime.utcnow()\n",
    "    week_ago = now - timedelta(weeks=1)\n",
    "\n",
    "    if date < week_ago:\n",
    "        day_difference = now - date\n",
    "        rd_change = day_difference.days\n",
    "        return rd-rd_change\n",
    "    else:\n",
    "        return rd\n"
   ]
  },
  {
   "cell_type": "markdown",
   "id": "5a343fc3",
   "metadata": {},
   "source": [
    "**Using players who are unrank and not part of the dataset**"
   ]
  },
  {
   "cell_type": "code",
   "execution_count": 19,
   "id": "57b5d650",
   "metadata": {
    "scrolled": true
   },
   "outputs": [
    {
     "name": "stdout",
     "output_type": "stream",
     "text": [
      "Actual TR:             24999.33 \n",
      "Estimated TR:          24999.31\n",
      "Linear Regression TR:  24994.19\n",
      "Lasso TR:              24997.33\n",
      "Decision Tree TR:      24998.79\n"
     ]
    }
   ],
   "source": [
    "predict_TR('icly')"
   ]
  },
  {
   "cell_type": "code",
   "execution_count": 20,
   "id": "db365eca",
   "metadata": {},
   "outputs": [
    {
     "name": "stdout",
     "output_type": "stream",
     "text": [
      "Actual TR:             24948.11 \n",
      "Estimated TR:          24948.94\n",
      "Linear Regression TR:  24847.18\n",
      "Lasso TR:              24903.57\n",
      "Decision Tree TR:      24931.38\n"
     ]
    }
   ],
   "source": [
    "predict_TR('quickandsmart')"
   ]
  },
  {
   "cell_type": "code",
   "execution_count": 21,
   "id": "bd6e6fb1",
   "metadata": {},
   "outputs": [
    {
     "name": "stdout",
     "output_type": "stream",
     "text": [
      "Actual TR:             267.08 \n",
      "Estimated TR:          256.73\n",
      "Linear Regression TR:  795.47\n",
      "Lasso TR:              896.89\n",
      "Decision Tree TR:      894.74\n"
     ]
    }
   ],
   "source": [
    "predict_TR('kiken')"
   ]
  },
  {
   "cell_type": "code",
   "execution_count": 22,
   "id": "7b7c6332",
   "metadata": {},
   "outputs": [
    {
     "name": "stdout",
     "output_type": "stream",
     "text": [
      "Actual TR:             408.87 \n",
      "Estimated TR:          392.15\n",
      "Linear Regression TR:  227.56\n",
      "Lasso TR:              1192.32\n",
      "Decision Tree TR:      153.94\n"
     ]
    }
   ],
   "source": [
    "predict_TR('atombolders')"
   ]
  },
  {
   "cell_type": "markdown",
   "id": "9d78750c",
   "metadata": {},
   "source": [
    "**While all models seem to be around the same in accuracy, Decision Tree seems to handle outliers slightly better so that model will be used**"
   ]
  },
  {
   "cell_type": "markdown",
   "id": "ceaebcde",
   "metadata": {},
   "source": [
    "<h2 style='color:blue'>Export the model to a pickle file</h2>"
   ]
  },
  {
   "cell_type": "code",
   "execution_count": 23,
   "id": "2673240f",
   "metadata": {},
   "outputs": [],
   "source": [
    "import pickle\n",
    "with open('tr_prediction_model.pickle','wb') as f:\n",
    "    pickle.dump(dt_clf,f)"
   ]
  },
  {
   "cell_type": "markdown",
   "id": "f49f312e",
   "metadata": {},
   "source": [
    "<h2 style='color:blue'>Export location and column information to a file that will be useful later on in prediction application</h2>\n"
   ]
  },
  {
   "cell_type": "code",
   "execution_count": 24,
   "id": "52124f52",
   "metadata": {},
   "outputs": [],
   "source": [
    "import json\n",
    "columns = {\n",
    "    'data_columns' : [col.lower() for col in X.columns]\n",
    "}\n",
    "with open(\"columns.json\",\"w\") as f:\n",
    "    f.write(json.dumps(columns))"
   ]
  }
 ],
 "metadata": {
  "kernelspec": {
   "display_name": "Python 3 (ipykernel)",
   "language": "python",
   "name": "python3"
  },
  "language_info": {
   "codemirror_mode": {
    "name": "ipython",
    "version": 3
   },
   "file_extension": ".py",
   "mimetype": "text/x-python",
   "name": "python",
   "nbconvert_exporter": "python",
   "pygments_lexer": "ipython3",
   "version": "3.9.13"
  }
 },
 "nbformat": 4,
 "nbformat_minor": 5
}
